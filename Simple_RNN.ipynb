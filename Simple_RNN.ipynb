{
  "nbformat": 4,
  "nbformat_minor": 0,
  "metadata": {
    "colab": {
      "name": "Simple RNN.ipynb",
      "provenance": [],
      "authorship_tag": "ABX9TyN2xwl9GFZumASGIy2P5nIt",
      "include_colab_link": true
    },
    "kernelspec": {
      "name": "python3",
      "display_name": "Python 3"
    },
    "accelerator": "GPU"
  },
  "cells": [
    {
      "cell_type": "markdown",
      "metadata": {
        "id": "view-in-github",
        "colab_type": "text"
      },
      "source": [
        "<a href=\"https://colab.research.google.com/github/infiniteoverflow/Simple-RNN/blob/master/Simple_RNN.ipynb\" target=\"_parent\"><img src=\"https://colab.research.google.com/assets/colab-badge.svg\" alt=\"Open In Colab\"/></a>"
      ]
    },
    {
      "cell_type": "code",
      "metadata": {
        "id": "zUXmOlLnTnZQ",
        "colab_type": "code",
        "colab": {}
      },
      "source": [
        "from torch import nn\n",
        "import numpy as np\n",
        "import torch.nn.functional as F\n",
        "import matplotlib.pyplot as plt\n"
      ],
      "execution_count": 0,
      "outputs": []
    },
    {
      "cell_type": "markdown",
      "metadata": {
        "id": "DwkDlxjfT_v7",
        "colab_type": "text"
      },
      "source": [
        "# Defining the dataset"
      ]
    },
    {
      "cell_type": "code",
      "metadata": {
        "id": "7fQB9FCnT9bT",
        "colab_type": "code",
        "colab": {
          "base_uri": "https://localhost:8080/",
          "height": 320
        },
        "outputId": "5dce416c-88be-412c-87b5-fb7ab1fdfea9"
      },
      "source": [
        "plt.figure(figsize=(8,5))\n",
        "\n",
        "seq_length = 30\n",
        "\n",
        "time_series = np.linspace(0,np.pi,num=seq_length+1)\n",
        "data = np.sin(time_series)\n",
        "\n",
        "data.resize((seq_length+1 , 1))\n",
        "\n",
        "x = data[:-1]\n",
        "y = data[1:]\n",
        "\n",
        "plt.plot(time_series[1:], x, 'r.', label='input, x') # x\n",
        "plt.plot(time_series[1:], y, 'b.', label='target, y') # y\n",
        "\n",
        "plt.show()"
      ],
      "execution_count": 7,
      "outputs": [
        {
          "output_type": "display_data",
          "data": {
            "image/png": "[encoded data removed]",
            "text/plain": [
              "<Figure size 576x360 with 1 Axes>"
            ]
          },
          "metadata": {
            "tags": [],
            "needs_background": "light"
          }
        }
      ]
    },
    {
      "cell_type": "code",
      "metadata": {
        "id": "LuGrCeihUkFz",
        "colab_type": "code",
        "colab": {}
      },
      "source": [
        ""
      ],
      "execution_count": 0,
      "outputs": []
    }
  ]
}